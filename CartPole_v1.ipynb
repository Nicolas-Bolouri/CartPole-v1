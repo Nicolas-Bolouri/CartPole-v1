{
  "cells": [
    {
      "cell_type": "markdown",
      "metadata": {
        "id": "view-in-github",
        "colab_type": "text"
      },
      "source": [
        "<a href=\"https://colab.research.google.com/github/Nicolas-Bolouri/OpenAi/blob/main/CartPole_v1.ipynb\" target=\"_parent\"><img src=\"https://colab.research.google.com/assets/colab-badge.svg\" alt=\"Open In Colab\"/></a>"
      ]
    },
    {
      "cell_type": "markdown",
      "metadata": {
        "id": "ZauhjPSfX7pI"
      },
      "source": [
        "# OpenAI’s CartPole-v1"
      ]
    },
    {
      "cell_type": "markdown",
      "metadata": {
        "id": "UBiYOoesYMvr"
      },
      "source": [
        "## Installing dependencies"
      ]
    },
    {
      "cell_type": "code",
      "execution_count": null,
      "metadata": {
        "colab": {
          "base_uri": "https://localhost:8080/",
          "height": 582
        },
        "id": "PbgnVwZmX5uW",
        "outputId": "390a38fe-fd66-4683-8b7e-bf8042e37321"
      },
      "outputs": [
        {
          "output_type": "stream",
          "name": "stdout",
          "text": [
            "Requirement already satisfied: gym[classic_control] in /usr/local/lib/python3.10/dist-packages (0.25.2)\n",
            "Requirement already satisfied: numpy>=1.18.0 in /usr/local/lib/python3.10/dist-packages (from gym[classic_control]) (1.25.2)\n",
            "Requirement already satisfied: cloudpickle>=1.2.0 in /usr/local/lib/python3.10/dist-packages (from gym[classic_control]) (2.2.1)\n",
            "Requirement already satisfied: gym-notices>=0.0.4 in /usr/local/lib/python3.10/dist-packages (from gym[classic_control]) (0.0.8)\n",
            "Collecting pygame==2.1.0 (from gym[classic_control])\n",
            "  Downloading pygame-2.1.0-cp310-cp310-manylinux_2_17_x86_64.manylinux2014_x86_64.whl (18.3 MB)\n",
            "\u001b[2K     \u001b[90m━━━━━━━━━━━━━━━━━━━━━━━━━━━━━━━━━━━━━━━━\u001b[0m \u001b[32m18.3/18.3 MB\u001b[0m \u001b[31m37.5 MB/s\u001b[0m eta \u001b[36m0:00:00\u001b[0m\n",
            "\u001b[?25hInstalling collected packages: pygame\n",
            "  Attempting uninstall: pygame\n",
            "    Found existing installation: pygame 2.5.2\n",
            "    Uninstalling pygame-2.5.2:\n",
            "      Successfully uninstalled pygame-2.5.2\n",
            "Successfully installed pygame-2.1.0\n",
            "Requirement already satisfied: setuptools in /usr/local/lib/python3.10/dist-packages (67.7.2)\n",
            "Collecting setuptools\n",
            "  Downloading setuptools-69.2.0-py3-none-any.whl (821 kB)\n",
            "\u001b[2K     \u001b[90m━━━━━━━━━━━━━━━━━━━━━━━━━━━━━━━━━━━━━━━━\u001b[0m \u001b[32m821.5/821.5 kB\u001b[0m \u001b[31m7.1 MB/s\u001b[0m eta \u001b[36m0:00:00\u001b[0m\n",
            "\u001b[?25hInstalling collected packages: setuptools\n",
            "  Attempting uninstall: setuptools\n",
            "    Found existing installation: setuptools 67.7.2\n",
            "    Uninstalling setuptools-67.7.2:\n",
            "      Successfully uninstalled setuptools-67.7.2\n",
            "\u001b[31mERROR: pip's dependency resolver does not currently take into account all the packages that are installed. This behaviour is the source of the following dependency conflicts.\n",
            "ipython 7.34.0 requires jedi>=0.16, which is not installed.\u001b[0m\u001b[31m\n",
            "\u001b[0mSuccessfully installed setuptools-69.2.0\n"
          ]
        },
        {
          "output_type": "display_data",
          "data": {
            "application/vnd.colab-display-data+json": {
              "pip_warning": {
                "packages": [
                  "_distutils_hack",
                  "pkg_resources",
                  "setuptools"
                ]
              },
              "id": "d84737ccdf224125a13d5feade00507a"
            }
          },
          "metadata": {}
        }
      ],
      "source": [
        "!apt-get install -y xvfb python-opengl > /dev/null 2>&1\n",
        "!pip install gym pyvirtualdisplay > /dev/null 2>&1\n",
        "!pip install gym pyvirtualdisplay > /dev/null 2>&1\n",
        "!apt-get install -y xvfb python-opengl ffmpeg > /dev/null 2>&1\n",
        "!pip install gym[classic_control]\n",
        "!apt-get update > /dev/null 2>&1\n",
        "!apt-get install cmake > /dev/null 2>&1\n",
        "!pip install --upgrade setuptools 2>&1\n",
        "!pip install ez_setup > /dev/null 2>&1"
      ]
    },
    {
      "cell_type": "markdown",
      "metadata": {
        "id": "RwKbYeTgbaTA"
      },
      "source": [
        "## Importing dependencies and video helper function"
      ]
    },
    {
      "cell_type": "code",
      "execution_count": null,
      "metadata": {
        "id": "j6KpgCLGYWmj"
      },
      "outputs": [],
      "source": [
        "import gym\n",
        "from gym import logger as gymlogger\n",
        "from gym.wrappers import RecordVideo\n",
        "gymlogger.set_level(40) #error only\n",
        "import tensorflow as tf\n",
        "import numpy as np\n",
        "import random\n",
        "import matplotlib\n",
        "import matplotlib.pyplot as plt\n",
        "%matplotlib inline\n",
        "import glob\n",
        "import io\n",
        "import base64\n",
        "import time, math, random\n",
        "from typing import Tuple\n",
        "from IPython.display import HTML\n",
        "from IPython import display as ipythondisplay\n",
        "\n",
        "def show_video():\n",
        "  mp4list = glob.glob('video/*.mp4')\n",
        "  if len(mp4list) > 0:\n",
        "    mp4 = mp4list[0]\n",
        "    video = io.open(mp4, 'r+b').read()\n",
        "    encoded = base64.b64encode(video)\n",
        "    ipythondisplay.display(HTML(data='''<video alt=\"test\" autoplay\n",
        "                loop controls style=\"height: 400px;\">\n",
        "                <source src=\"data:video/mp4;base64,{0}\" type=\"video/mp4\" />\n",
        "             </video>'''.format(encoded.decode('ascii'))))\n",
        "  else:\n",
        "    print(\"Could not find video\")"
      ]
    },
    {
      "cell_type": "markdown",
      "metadata": {
        "id": "2oIzK9SzhlWN"
      },
      "source": [
        "## Task 1: Development of an RL agent"
      ]
    },
    {
      "cell_type": "markdown",
      "source": [
        "We start by loading the environment."
      ],
      "metadata": {
        "id": "phvmGRR2NxfM"
      }
    },
    {
      "cell_type": "code",
      "source": [
        "env = gym.make(\"CartPole-v1\")"
      ],
      "metadata": {
        "id": "BXjO-lukN0aK"
      },
      "execution_count": null,
      "outputs": []
    },
    {
      "cell_type": "markdown",
      "source": [
        "For our Q-Learning model to function, we discretize the cart-pole states into finite categories. This simplification enables a manageable Q-table size, allowing the model to learn and optimize actions effectively within a discrete decision space."
      ],
      "metadata": {
        "id": "a7rOufEHN20U"
      }
    },
    {
      "cell_type": "code",
      "source": [
        "# Define the number of buckets for each state dimension\n",
        "n_buckets = (10, 10, 10, 10)\n",
        "\n",
        "# Define the bounds for each state dimension\n",
        "lower_bounds = [-4.8, -3.0, -0.418, -math.radians(50)]\n",
        "upper_bounds = [4.8, 3.0, 0.418, math.radians(50)]\n",
        "\n",
        "# Calculate the width of each bucket\n",
        "bucket_width = [(upper_bounds[i] - lower_bounds[i]) / (n_buckets[i] - 1) for i in range(4)]\n",
        "\n",
        "def discretizer(cart_position, cart_velocity, pole_angle, pole_angular_velocity):\n",
        "    \"\"\"\n",
        "    Converts continuous cart-pole state variables into discrete indexes based on predefined buckets.\n",
        "\n",
        "    Parameters:\n",
        "    - cart_position (float): The cart's position.\n",
        "    - cart_velocity (float): The cart's velocity.\n",
        "    - pole_angle (float): The pole's angle with respect to vertical.\n",
        "    - pole_angular_velocity (float): The pole's angular velocity.\n",
        "\n",
        "    Returns:\n",
        "    Tuple[int, ...]: A tuple of discrete indexes for each input state variable.\n",
        "    \"\"\"\n",
        "    cart_pos_index = int(min(max((cart_position - lower_bounds[0]) / bucket_width[0], 0), n_buckets[0] - 1))\n",
        "    cart_vel_index = int(min(max((cart_velocity - lower_bounds[1]) / bucket_width[1], 0), n_buckets[1] - 1))\n",
        "    pole_angle_index = int(min(max((pole_angle - lower_bounds[2]) / bucket_width[2], 0), n_buckets[2] - 1))\n",
        "    pole_vel_index = int(min(max((pole_angular_velocity - lower_bounds[3]) / bucket_width[3], 0), n_buckets[3] - 1))\n",
        "\n",
        "    return (cart_pos_index, cart_vel_index, pole_angle_index, pole_vel_index)"
      ],
      "metadata": {
        "id": "yi8WJTODWjYk"
      },
      "execution_count": null,
      "outputs": []
    },
    {
      "cell_type": "markdown",
      "source": [
        "Initializing the Q-table with random values instead of zeros encourages initial exploration of the action space, preventing early bias towards any specific action and promoting a more diverse learning experience."
      ],
      "metadata": {
        "id": "jJ5UbLcZWm_T"
      }
    },
    {
      "cell_type": "code",
      "source": [
        "Q_table = np.random.uniform(low=0, high=1, size=n_buckets + (env.action_space.n,))"
      ],
      "metadata": {
        "id": "cK6aCcgNWqfQ"
      },
      "execution_count": null,
      "outputs": []
    },
    {
      "cell_type": "markdown",
      "source": [
        "Define the policy function to balance exploration and exploitation.\n",
        "\n",
        "\n"
      ],
      "metadata": {
        "id": "wLbzIAYdW3j-"
      }
    },
    {
      "cell_type": "code",
      "source": [
        "def policy(state, epsilon=0.0):\n",
        "    \"\"\"\n",
        "    Determines the action to take in a given state using an epsilon-greedy strategy.\n",
        "\n",
        "    Parameters:\n",
        "    - state: The current state of the environment.\n",
        "    - epsilon (float, optional): The probability of choosing a random action for exploration.\n",
        "\n",
        "    Returns:\n",
        "    The action chosen based on the epsilon-greedy strategy.\n",
        "    \"\"\"\n",
        "    if random.uniform(0, 1) < epsilon:\n",
        "        return env.action_space.sample()\n",
        "    else:\n",
        "        return np.argmax(Q_table[state])"
      ],
      "metadata": {
        "id": "SFrWAmTKW4VM"
      },
      "execution_count": null,
      "outputs": []
    },
    {
      "cell_type": "markdown",
      "source": [
        "Define the function to update Q-values, enhancing reward optimization by considering future returns."
      ],
      "metadata": {
        "id": "ftzmXwqBuWSZ"
      }
    },
    {
      "cell_type": "code",
      "source": [
        "def new_Q_value(reward, new_state, gamma):\n",
        "    \"\"\"\n",
        "    Updates the Q-value for a state-action pair by incorporating future rewards.\n",
        "\n",
        "    Parameters:\n",
        "    - reward: The immediate reward received from taking an action.\n",
        "    - new_state: The state transitioned into after taking the action.\n",
        "    - gamma: The discount factor for future rewards.\n",
        "\n",
        "    Returns:\n",
        "    The updated Q-value incorporating future potential rewards.\n",
        "    \"\"\"\n",
        "    future_optimal_value = np.max(Q_table[new_state])  # max_a Q(S', a)\n",
        "    return reward + gamma * future_optimal_value"
      ],
      "metadata": {
        "id": "218JR8pfuWv0"
      },
      "execution_count": null,
      "outputs": []
    },
    {
      "cell_type": "markdown",
      "source": [
        "During training, extra rewards and punishments are given to train the AI better along with just the number of steps taken.\n",
        "\n",
        "We defined our reward and punishment system in 3 stages\n",
        "\n",
        "The first stage is based around logical deductions on what actions would be appropriate at a given state. This would allow the AI to quickly learn what actions are good and bad.\n",
        "\n",
        "The second stage is based around incentivising the AI to remain in an optimal zone for position, velocity, pole angle and angular velocity. This portion builds on the first portion and fine tunes the robot to be able to balance well, rewarding stability in all 4 factors.\n",
        "\n",
        "The last stage heavily punishes the robot if it was far from the center and still moving away from the center. This is due to the first two stages paying more focus to the balancing of the pole, which resulted in cases where the AI avoids changing directions due to the short term instability and insteads crashes into the environment's boundaries."
      ],
      "metadata": {
        "id": "TfXFhYkivf3P"
      }
    },
    {
      "cell_type": "code",
      "source": [
        "def calculate_reward(action, current_obs, next_obs):\n",
        "  reward = 0\n",
        "  if action == 0 and current_obs[0] > 0.5: #if cart is close to right and action is to move left, give reward\n",
        "    reward = reward + 3\n",
        "  if action == 1 and current_obs[0] < -0.5:\n",
        "    reward = reward + 3\n",
        "\n",
        "  if action == 0 and current_obs[1] > 0.25: #if velocity moves right and action is to move left, give reward\n",
        "    reward = reward + 5\n",
        "  if action == 1 and current_obs[1] < -0.25:\n",
        "    reward = reward + 5\n",
        "\n",
        "  if action == 0 and current_obs[2] > 0: #if pole angle is leaning right and action is to move left, give punishment\n",
        "    reward = reward - 10\n",
        "  if action == 1 and current_obs[2] < 0:\n",
        "    reward = reward - 10\n",
        "\n",
        "  if action == 0 and current_obs[3] > 0.5: #if pole speed is moving right and action is to move left, give punishment\n",
        "    reward = reward - 7\n",
        "  if action == 1 and current_obs[3] < -0.5:\n",
        "    reward = reward - 7\n",
        "\n",
        "\n",
        "\n",
        "  if -0.25 < next_obs[0] < 0.25: #if cart is close to center, give reward\n",
        "    reward = reward + 1\n",
        "  elif -0.75 < next_obs[0] < 0.75:\n",
        "    reward = reward + 0\n",
        "  else:\n",
        "    reward = reward - 1\n",
        "\n",
        "  if -0.1 < next_obs[1] < 0.1: # if velocity is small, give reward\n",
        "    reward = reward + 1\n",
        "  elif -0.25 < next_obs[1] < 0.25:\n",
        "    reward = reward + 0\n",
        "  else:\n",
        "    reward = reward - 1\n",
        "\n",
        "  if -0.05 < next_obs[2] < 0.05: # if pole angle is small (in other words, pole is not leaning much), give reward\n",
        "    reward = reward + 5\n",
        "  elif -0.1 < next_obs[2] < 0.1:\n",
        "    reward = reward + 0\n",
        "  else:\n",
        "    reward = reward - 5\n",
        "\n",
        "  if -0.5 < next_obs[3] < 0.5: #if pole's rotation is small, give reward\n",
        "    reward = reward + 5\n",
        "  elif -1 < next_obs[3] < 1:\n",
        "    reward = reward + 0\n",
        "  else:\n",
        "    reward = reward - 5\n",
        "\n",
        "  #If too far too the left and velocity towards left, give punishment\n",
        "  if next_obs[0] < -1 and next_obs[1] < 0:\n",
        "    reward = reward - 5\n",
        "\n",
        "  #If too far too the right and velocity towards right, give punishment\n",
        "  if next_obs[0] > 1 and next_obs[1] > 0:\n",
        "    reward = reward - 5\n",
        "  return reward"
      ],
      "metadata": {
        "id": "Hqq57oE0vjOn"
      },
      "execution_count": null,
      "outputs": []
    },
    {
      "cell_type": "markdown",
      "source": [
        "Now that all helper functions have been definined, the following code block trains our model. Training our model involves running it through a series of episodes to learn the optimal actions at different states under a given policy. The process starts with high exploration (high epsilon) to explore a wide range of actions, gradually shifting towards exploitation (lower epsilon) as the model learns from the environment. Parameters like alpha (learning rate), gamma (discount factor for future rewards), and the dynamics of epsilon (for balancing exploration and exploitation) are set to guide this learning process. Throughout each episode, the agent's observations and actions are used to update the Q-table values, continuously refining the policy towards optimal action selection based on the observed states. This iterative process of adjustment and learning aims to enhance the model's decision-making ability, leveraging immediate feedback and projected future outcomes to inform actions in a complex, dynamic environment."
      ],
      "metadata": {
        "id": "xJGoX36GXDIU"
      }
    },
    {
      "cell_type": "code",
      "execution_count": null,
      "metadata": {
        "id": "Hk-M4QEfh6l5"
      },
      "outputs": [],
      "source": [
        "alpha = 0.1  # Fixed step size\n",
        "gamma = 1  # Discount factor\n",
        "epsilon_start = 1.0  # Starting value of epsilon\n",
        "epsilon_decay = 0.999  # Decay rate of epsilon after each episode\n",
        "epsilon_min = 0.01  # Minimum value of epsilon\n",
        "\n",
        "n_episodes = 10000\n",
        "for e in range(n_episodes):\n",
        "    epsilon = max(epsilon_min, epsilon_start * (epsilon_decay ** e))  # Decrease epsilon\n",
        "    current_obs, done = env.reset(), False\n",
        "    time = 0\n",
        "\n",
        "    while not done:\n",
        "        current_state = discretizer(*current_obs)\n",
        "        action = policy(current_state, epsilon)  # Use the epsilon-greedy policy\n",
        "        next_obs, reward, done, _ = env.step(action)\n",
        "        new_state = discretizer(*next_obs)\n",
        "        time = time + 1\n",
        "        reward = calculate_reward(action, current_obs, next_obs)\n",
        "\n",
        "        if time > 500:\n",
        "          done = True\n",
        "\n",
        "        # Update Q-Table using the formula from the uploaded algorithm\n",
        "        old_value = Q_table[current_state][action]\n",
        "        learnt_value = new_Q_value(reward, new_state, gamma)\n",
        "        Q_table[current_state][action] = (1 - alpha) * old_value + alpha * learnt_value\n",
        "\n",
        "        current_obs = next_obs  # Update the observation\n",
        "\n",
        "env.close()"
      ]
    },
    {
      "cell_type": "markdown",
      "metadata": {
        "id": "RAi7KKwNiegR"
      },
      "source": [
        "For Task 1, we can show the observation and chosen action below:"
      ]
    },
    {
      "cell_type": "code",
      "source": [
        "observation = env.reset()\n",
        "action = policy(discretizer(*observation))\n",
        "print(\"Observation:\", observation)\n",
        "print(\"Chosen action:\", action)"
      ],
      "metadata": {
        "id": "kmBHy0owvdBf",
        "colab": {
          "base_uri": "https://localhost:8080/"
        },
        "outputId": "9e131d30-278f-42ec-b565-cca7f5b3a5e2"
      },
      "execution_count": null,
      "outputs": [
        {
          "output_type": "stream",
          "name": "stdout",
          "text": [
            "Observation: [-0.03469022  0.00561753  0.018377    0.00742471]\n",
            "Chosen action: 0\n"
          ]
        }
      ]
    },
    {
      "cell_type": "markdown",
      "metadata": {
        "id": "-XtIQ0Rti1gm"
      },
      "source": [
        "## Task 2: Demonstrate the effectiveness of the RL agent"
      ]
    },
    {
      "cell_type": "markdown",
      "metadata": {
        "id": "djBEShf0kGI4"
      },
      "source": [
        "For this task, use the agent developed in Task 1 to play the game for 100 episodes (refer to tutorial for how to play a round), record the cumulative reward for each round, and plot the reward for each round. A sample plotting code is given below. Note that you must include code to play for 100 episodes and use the code to obtain round_results for plotting. DO NOT record the round results in advance and paste the results to the notebook."
      ]
    },
    {
      "cell_type": "code",
      "execution_count": null,
      "metadata": {
        "colab": {
          "base_uri": "https://localhost:8080/",
          "height": 472
        },
        "id": "RZrCKywQi6CE",
        "outputId": "a351f527-65b1-4807-bcaa-ae2919a0a589"
      },
      "outputs": [
        {
          "output_type": "display_data",
          "data": {
            "text/plain": [
              "<Figure size 640x480 with 1 Axes>"
            ],
            "image/png": "[encoded data removed]"
          },
          "metadata": {}
        }
      ],
      "source": [
        "episode_results = np.array([])\n",
        "\n",
        "for _ in range(100):\n",
        "\n",
        "  observation = env.reset()\n",
        "  cumulative_reward = 0\n",
        "  done = False\n",
        "\n",
        "  while not done:\n",
        "      action = policy(discretizer(*observation))\n",
        "      observation, reward, done, info = env.step(action)\n",
        "      cumulative_reward += reward\n",
        "\n",
        "  episode_results = np.append(episode_results, cumulative_reward)\n",
        "\n",
        "plt.plot(episode_results)\n",
        "plt.title('Cumulative reward for each episode')\n",
        "plt.ylabel('Cumulative reward')\n",
        "plt.xlabel('episode')\n",
        "plt.show()"
      ]
    },
    {
      "cell_type": "markdown",
      "metadata": {
        "id": "XndSYH7wlvn7"
      },
      "source": [
        "Print the average reward over the 100 episodes."
      ]
    },
    {
      "cell_type": "code",
      "execution_count": null,
      "metadata": {
        "colab": {
          "base_uri": "https://localhost:8080/"
        },
        "id": "pOiOp9OYlo5Y",
        "outputId": "65300482-409a-4345-e6f3-f68c15ce741a"
      },
      "outputs": [
        {
          "output_type": "stream",
          "name": "stdout",
          "text": [
            "Average cumulative reward: 500.0\n",
            "Is my agent good enough? True\n"
          ]
        }
      ],
      "source": [
        "print(\"Average cumulative reward:\", episode_results.mean())\n",
        "print(\"Is my agent good enough?\", episode_results.mean() > 195)"
      ]
    },
    {
      "cell_type": "markdown",
      "metadata": {
        "id": "Yg0DCT38lFA6"
      },
      "source": [
        "## Task 3: Render one episode played by the agent"
      ]
    },
    {
      "cell_type": "markdown",
      "metadata": {
        "id": "vx1awMr9lc_w"
      },
      "source": [
        "Plug your agent to the code below to obtain rendered result."
      ]
    },
    {
      "cell_type": "code",
      "execution_count": null,
      "metadata": {
        "id": "LYyavfbIa47D",
        "colab": {
          "base_uri": "https://localhost:8080/",
          "height": 477
        },
        "outputId": "b272be4e-6c7a-4f87-bbe1-02570151c2be"
      },
      "outputs": [
        {
          "output_type": "stream",
          "name": "stderr",
          "text": [
            "/usr/local/lib/python3.10/dist-packages/gym/utils/passive_env_checker.py:241: DeprecationWarning: `np.bool8` is a deprecated alias for `np.bool_`.  (Deprecated NumPy 1.24)\n",
            "  if not isinstance(terminated, (bool, np.bool8)):\n"
          ]
        },
        {
          "output_type": "display_data",
          "data": {
            "text/plain": [
              "<IPython.core.display.HTML object>"
            ],
            "text/html": [
              "<video alt=\"test\" autoplay\n",
              "                loop controls style=\"height: 400px;\">\n",
              "                <source src=\"data:video/mp4;base64,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\" type=\"video/mp4\" />\n",
              "             </video>"
            ]
          },
          "metadata": {}
        }
      ],
      "source": [
        "env = RecordVideo(gym.make(\"CartPole-v1\"), \"./video\")\n",
        "observation = env.reset()\n",
        "while True:\n",
        "    env.render()\n",
        "    #your agent goes here\n",
        "    state = discretizer(*observation)\n",
        "    action = policy(state)\n",
        "    observation, reward, done, info = env.step(action)\n",
        "    if done:\n",
        "      break;\n",
        "env.close()\n",
        "show_video()"
      ]
    }
  ],
  "metadata": {
    "colab": {
      "provenance": [],
      "collapsed_sections": [
        "UBiYOoesYMvr",
        "RwKbYeTgbaTA"
      ],
      "include_colab_link": true
    },
    "kernelspec": {
      "display_name": "Python 3",
      "name": "python3"
    },
    "language_info": {
      "name": "python"
    }
  },
  "nbformat": 4,
  "nbformat_minor": 0
}
